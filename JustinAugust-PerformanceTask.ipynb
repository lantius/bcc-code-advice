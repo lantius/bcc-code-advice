{
 "cells": [
  {
   "cell_type": "markdown",
   "metadata": {},
   "source": [
    "# Summit Schools Manager of Data Performance Task\n",
    "## Prepared by Justin August\n",
    "\n",
    "Note: I tried to make as much of this code reusable as possible by creating functions that took appropriate arguments with defaults as defined by the tasks. With a few tweaks to the way constants and arguments are inputted this could be converted into a script that would run regularly from the command line via chron or manually as well as taking user input from the command line to specify sites and data sources."
   ]
  },
  {
   "cell_type": "code",
   "execution_count": 1,
   "metadata": {},
   "outputs": [],
   "source": [
    "import pandas as pd\n",
    "from datetime import date"
   ]
  },
  {
   "cell_type": "code",
   "execution_count": 2,
   "metadata": {},
   "outputs": [],
   "source": [
    "#Define today's date for filename usage later on.\n",
    "TODAY = date.today().strftime('%m-%d-%Y')"
   ]
  },
  {
   "cell_type": "markdown",
   "metadata": {},
   "source": [
    "### A dictionary to hold site metadata such as shortname and site name each site.\n",
    "\n",
    "_This would need to be expanded and customized for each data source as schools were added_\n",
    "_I could see information like this being kept in a 'sites_info.py' file or module to load into our notebooks so there was a uniform way of storing and accessing this information_"
   ]
  },
  {
   "cell_type": "code",
   "execution_count": 3,
   "metadata": {},
   "outputs": [],
   "source": [
    "# Create Dictionary with site_id as keys containing short_name and site_name\n",
    "CA_SITE_META = {2:\n",
    "                {'short_name':'Tahoma',\n",
    "                 'site_name' : 'Summit Public School: Tahoma'\n",
    "                },\n",
    "             3:\n",
    "                {'short_name':'Prep',\n",
    "                 'site_name' : 'Summit Preparatory Charter High School'\n",
    "                },\n",
    "             4:\n",
    "                {'short_name':'Everest',\n",
    "                 'site_name' : 'Everest Public High School'\n",
    "                },\n",
    "             5:\n",
    "                {'short_name':'Denali',\n",
    "                 'site_name' : 'Summit Public School: Denali'\n",
    "                },\n",
    "             6:\n",
    "                {'short_name':'Shasta',\n",
    "                 'site_name' : 'Public School: Shasta'\n",
    "                },\n",
    "             7:\n",
    "                {'short_name':'K2',\n",
    "                 'site_name' : 'Summit Public School: K2 Summit'\n",
    "                },\n",
    "             8:\n",
    "                {'short_name':'Tamalpais',\n",
    "                 'site_name' : 'Summit Public School: Tamalpais'\n",
    "                },\n",
    "            }\n",
    "\n",
    "## Pull out site_ids for later use\n",
    "ALL_CA_SITES = list(CA_SITE_META.keys())"
   ]
  },
  {
   "cell_type": "markdown",
   "metadata": {},
   "source": [
    "## Part 1: School Rosters"
   ]
  },
  {
   "cell_type": "code",
   "execution_count": 4,
   "metadata": {},
   "outputs": [],
   "source": [
    "# Fetch data for ELA Statuses and put it into a DataFrame\n",
    "ELA_STATUSES_URL = 'https://drive.google.com/uc?export=download&id=1dK-050RcSingosBwLcuXBmrZavcfL8-j'\n",
    "ela_statuses_df = pd.read_csv(ELA_STATUSES_URL)"
   ]
  },
  {
   "cell_type": "markdown",
   "metadata": {},
   "source": [
    "### These are the data specified to be contained within the enrollment files"
   ]
  },
  {
   "cell_type": "code",
   "execution_count": 5,
   "metadata": {},
   "outputs": [],
   "source": [
    "#define columns for enrollment filese\n",
    "ROSTER_DATA_COLUMNS = ['LOCAL_STUDENT_ID',\n",
    "                'STATE_STUDENT_ID',\n",
    "                'SITE_ID',\n",
    "                'SITE_NAME',\n",
    "                'FIRST_NAME',\n",
    "                'LAST_NAME',\n",
    "                'GRADE_LEVEL',\n",
    "                'CURRENT_SCHOOL_ENROLLMENT_START_DATE',\n",
    "                'CURRENT_SCHOOL_ENROLLMENT_END_DATE'\n",
    "               ]"
   ]
  },
  {
   "cell_type": "markdown",
   "metadata": {},
   "source": [
    "### This function will be default run a roster report on all sites in CA using the given DataFrame.\n",
    "Individual or subsets of sites can be run by placing the site IDs in a list. Additionally a separate DataFrame can be called."
   ]
  },
  {
   "cell_type": "code",
   "execution_count": 6,
   "metadata": {},
   "outputs": [],
   "source": [
    "def create_rosters(site_ids = ALL_CA_SITES,\n",
    "                   df = ela_statuses_df\n",
    "                  ):\n",
    "    \"\"\"\n",
    "    This function will be default run a roster report on all sites in CA using the given DataFrame.\n",
    "\n",
    "    Individual or subsets of sites can be run by placing the site IDs in a list. Additionally a separate DataFrame can be called.\n",
    "\n",
    "    Arguments:\n",
    "    - df - DataFrame containing data and metadata about students and their ELA proficiency (Default: ALL_CA_SITES)\n",
    "    - site_ids - a list of numeric site ids to create testing lists for (Default: ela_statuses_df)\n",
    "    \n",
    "    Output:\n",
    "    - Writes CSV files based on site_ids\n",
    "    - Prints confirmation\n",
    "    - Returns boolean True\n",
    "    \n",
    "    \"\"\"\n",
    "    \n",
    "\n",
    "    for site_id in site_ids:\n",
    "        \n",
    "        # Get site's shortname to use in the filename\n",
    "        site_shortname = CA_SITE_META[site_id]['short_name']\n",
    "\n",
    "\n",
    "        # filename as specified\n",
    "        filename = f'{site_shortname}_{site_id}_Roster_{TODAY}.csv'\n",
    "\n",
    "        # Write files print confirmation\n",
    "        df.loc[df['SITE_ID'] == site_id,ROSTER_DATA_COLUMNS].to_csv(filename)\n",
    "            \n",
    "        print(f'Roster for {site_shortname} written to {filename}')\n",
    "    \n",
    "    print('All sites data written.')\n",
    "    return(True)"
   ]
  },
  {
   "cell_type": "code",
   "execution_count": 7,
   "metadata": {},
   "outputs": [
    {
     "name": "stdout",
     "output_type": "stream",
     "text": [
      "Roster for Tahoma written to Tahoma_2_Roster_10-17-2020.csv\n",
      "Roster for Prep written to Prep_3_Roster_10-17-2020.csv\n",
      "Roster for Everest written to Everest_4_Roster_10-17-2020.csv\n",
      "Roster for Denali written to Denali_5_Roster_10-17-2020.csv\n",
      "Roster for Shasta written to Shasta_6_Roster_10-17-2020.csv\n",
      "Roster for K2 written to K2_7_Roster_10-17-2020.csv\n",
      "Roster for Tamalpais written to Tamalpais_8_Roster_10-17-2020.csv\n",
      "All sites data written.\n"
     ]
    },
    {
     "data": {
      "text/plain": [
       "True"
      ]
     },
     "execution_count": 7,
     "metadata": {},
     "output_type": "execute_result"
    }
   ],
   "source": [
    "create_rosters()"
   ]
  },
  {
   "cell_type": "markdown",
   "metadata": {},
   "source": [
    "## Part 2: English Proficiency Testing Lists"
   ]
  },
  {
   "cell_type": "code",
   "execution_count": 8,
   "metadata": {},
   "outputs": [],
   "source": [
    "# Data URL for mentors\n",
    "MENTOR_DATA_URL = 'https://drive.google.com/uc?export=download&id=1wpKxw2rWB1a7jQBDunay0JfSO6lUiJ67'\n",
    "\n",
    "# Pull in and merge both sheets from the remote Excel document\n",
    "# This assumes the workbooks are consistent format with two sheets of data\n",
    "# If data would be variable then this would need to be rewritten using ExcelFile class\n",
    "# and some logic to sniff out appropriate sheets.\n",
    "mentor_df = pd.merge(pd.read_excel(MENTOR_DATA_URL, sheet_name = 0),\n",
    "                       pd.read_excel(MENTOR_DATA_URL, sheet_name = 1))"
   ]
  },
  {
   "cell_type": "markdown",
   "metadata": {},
   "source": [
    "### Define Default ELA Statuses of Interest"
   ]
  },
  {
   "cell_type": "code",
   "execution_count": 9,
   "metadata": {},
   "outputs": [],
   "source": [
    "ELA_STATUSES = ['EL','TBD']"
   ]
  },
  {
   "cell_type": "markdown",
   "metadata": {},
   "source": [
    "### Define columns for final output\n",
    "_Case and Spacing will be corrected before output_"
   ]
  },
  {
   "cell_type": "code",
   "execution_count": 10,
   "metadata": {},
   "outputs": [],
   "source": [
    "# Existing columns in the DataFrames to be included\n",
    "ELA_PROF_DATA_COLUMNS = ['LOCAL_STUDENT_ID',\n",
    "                'STATE_STUDENT_ID',\n",
    "                'SITE_NAME',\n",
    "                'FIRST_NAME',\n",
    "                'LAST_NAME',\n",
    "                'GRADE_LEVEL',\n",
    "                'MENTOR_FIRST_NAME',\n",
    "                'MENTOR_LAST_NAME',\n",
    "                'CURRENT_ELA_STATUS',\n",
    "                'ELA_PRIMARY_LANGUAGE'\n",
    "               ]\n",
    "\n",
    "# Blank columns to be inserted into the dataframe.\n",
    "ELA_PROF_BLANK_COLUMNS = ['Notification Letter Sent Home',\n",
    "                 'Date Notification Letter Sent Home',\n",
    "                 'Date Listening Completed',\n",
    "                 'Date Reading Completed',\n",
    "                 'Date Writing Completed',\n",
    "                 'Date Speaking Completed',\n",
    "                 'Date Assessment Completed',\n",
    "                 'Assessment Deadline',\n",
    "                 'Notes'\n",
    "                ]"
   ]
  },
  {
   "cell_type": "markdown",
   "metadata": {},
   "source": [
    "### This function will by default create a testing list in XLSX format with sheets for all sites in CA using the mentor DataFrame and ELA Status DF, filtering by ELA Statuses of \"ELA\" and \"TBD\".\n",
    "- Individual or subsets of sites can be run by placing the site IDs in a list.\n",
    "- Different ELA statuses could be defined as well via a list."
   ]
  },
  {
   "cell_type": "code",
   "execution_count": 11,
   "metadata": {},
   "outputs": [],
   "source": [
    "def create_test_lists(mentor_df = mentor_df,\n",
    "                      ela_statuses_df = ela_statuses_df,\n",
    "                      ela_statuses_ = ELA_STATUSES,\n",
    "                      site_ids = ALL_CA_SITES\n",
    "                     ):\n",
    "    \"\"\"\n",
    "    This function will by default create a testing list in XLSX format with sheets for all sites in CA using the mentor DataFrame and ELA Status DF, filtering by ELA Statuses of \"ELA\" and \"TBD\".\n",
    "\n",
    "    Individual or subsets of sites can be run by placing the site IDs in a list.\n",
    "    Different ELA statuses could be defined as well via a list.\n",
    "    \n",
    "    Arguments:\n",
    "    - mentor_df: DataFrame containing student IDs, mentor IDs and mentor metadata (Default: mentor_df)\n",
    "    - ela_statuses_df - DataFrame containing data and metadata about students and their ELA proficiency (Default: ela_statuses_df)\n",
    "    - ela_statuses_ - a list of ELA statuses to filter into the testing lists (Default: ELA_STATUSES)\n",
    "    - site_ids - a list of numeric site ids to create testing lists for (Default: ALL_CA_SITES)\n",
    "    \n",
    "    Output:\n",
    "    - Writes xslx file with sheets based on site_ids\n",
    "    - Prints confirmation\n",
    "    - Returns boolean True\n",
    "\n",
    "    \"\"\"\n",
    "    \n",
    "    \n",
    "   # Correct column names to save time later on a subsequent merge\n",
    "    mentor_df.columns = ['LOCAL_STUDENT_ID', 'MENTOR_GROUP_ID', 'MENTOR_ID', 'MENTOR_FIRST_NAME',\n",
    "           'MENTOR_LAST_NAME', 'MENTOR_FULL_NAME']\n",
    "    \n",
    "    # Merge ELA Status data with mentor data using 'LOCAL_STUDENT_ID'\n",
    "    test_list_data = pd.merge(ela_statuses_df,\n",
    "                           mentor_df,\n",
    "                           on = 'LOCAL_STUDENT_ID'\n",
    "                          )\n",
    "    \n",
    "    # Filter the data down to relevant columns needed\n",
    "    test_list_data = test_list_data.loc[test_list_data['CURRENT_ELA_STATUS'].isin(ela_statuses_),\n",
    "                                  ELA_PROF_DATA_COLUMNS]\n",
    "    \n",
    "    #Append empty columns\n",
    "    test_list_data[ELA_PROF_BLANK_COLUMNS] = ''\n",
    "\n",
    "    #Fix columns case from import to match requirements\n",
    "    fixed_columns = []\n",
    "    for column in test_list_data.columns:\n",
    "        fixed_columns.append(column.title().replace(\"_\",\" \").replace(\" Id\",\" ID\").replace('Ela ','ELA '))\n",
    "    test_list_data.columns = fixed_columns\n",
    "\n",
    "    \n",
    "    \n",
    "    test_list_filename = f'SPS_English_Proficiency_Testing_Lists_All_Schools_{TODAY}.xlsx'\n",
    "    \n",
    "    # Write file and print confirmation\n",
    "    \n",
    "    with pd.ExcelWriter(path = test_list_filename, mode='w') as writer:\n",
    "\n",
    "        print(f'Writing data to {test_list_filename}')\n",
    "\n",
    "        for site_id in site_ids:\n",
    "            site_shortname = CA_SITE_META[site_id]['short_name']\n",
    "            site_name = CA_SITE_META[site_id]['site_name']\n",
    "            \n",
    "            # Write data\n",
    "            test_list_data.loc[test_list_data['Site Name'] == site_name].to_excel(writer,\n",
    "                                                                        sheet_name = site_shortname)\n",
    "            print(f'Data for {site_name} written.')\n",
    "            \n",
    "    print('All sites data written.')\n",
    "    return(True)"
   ]
  },
  {
   "cell_type": "code",
   "execution_count": 12,
   "metadata": {
    "scrolled": false
   },
   "outputs": [
    {
     "name": "stdout",
     "output_type": "stream",
     "text": [
      "Writing data to SPS_English_Proficiency_Testing_Lists_All_Schools_10-17-2020.xlsx\n",
      "Data for Summit Public School: Tahoma written.\n",
      "Data for Summit Preparatory Charter High School written.\n",
      "Data for Everest Public High School written.\n",
      "Data for Summit Public School: Denali written.\n",
      "Data for Public School: Shasta written.\n",
      "Data for Summit Public School: K2 Summit written.\n",
      "Data for Summit Public School: Tamalpais written.\n",
      "All sites data written.\n"
     ]
    },
    {
     "data": {
      "text/plain": [
       "True"
      ]
     },
     "execution_count": 12,
     "metadata": {},
     "output_type": "execute_result"
    }
   ],
   "source": [
    "create_test_lists()"
   ]
  }
 ],
 "metadata": {
  "kernelspec": {
   "display_name": "Python [conda env:root] *",
   "language": "python",
   "name": "conda-root-py"
  },
  "language_info": {
   "codemirror_mode": {
    "name": "ipython",
    "version": 3
   },
   "file_extension": ".py",
   "mimetype": "text/x-python",
   "name": "python",
   "nbconvert_exporter": "python",
   "pygments_lexer": "ipython3",
   "version": "3.7.3"
  }
 },
 "nbformat": 4,
 "nbformat_minor": 2
}
