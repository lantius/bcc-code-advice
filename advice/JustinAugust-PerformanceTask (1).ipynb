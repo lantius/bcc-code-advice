{
 "cells": [
  {
   "cell_type": "markdown",
   "metadata": {},
   "source": [
    "# Summit Schools Manager of Data Performance Task\n",
    "## Prepared by Justin August"
   ]
  },
  {
   "cell_type": "code",
   "execution_count": 1,
   "metadata": {},
   "outputs": [],
   "source": [
    "import pandas as pd\n",
    "from datetime import date"
   ]
  },
  {
   "cell_type": "code",
   "execution_count": 2,
   "metadata": {},
   "outputs": [],
   "source": [
    "# AL: nit - i prefer YYYY-MM-DD since it's alphabetically self-sorting. and oddly enough they reference the date using YYYY-MM-DD, but the actual filename is in MM-DD-YYYY format.\n",
    "\n",
    "today = date.today().strftime('%m-%d-%Y')"
   ]
  },
  {
   "cell_type": "markdown",
   "metadata": {},
   "source": [
    "## Part 1: School Rosters"
   ]
  },
  {
   "cell_type": "code",
   "execution_count": 3,
   "metadata": {},
   "outputs": [],
   "source": [
    "#import data\n",
    "\n",
    "# AL: nit - reading the grading rubric, seems like a URL should be a constant? i.e. all uppercase\n",
    "ca_students_ela_statuses_data_url = 'https://drive.google.com/uc?export=download&id=1dK-050RcSingosBwLcuXBmrZavcfL8-j'\n",
    "ela_statuses_data = pd.read_csv(ca_students_ela_statuses_data_url)"
   ]
  },
  {
   "cell_type": "markdown",
   "metadata": {},
   "source": [
    "### I chose to create a DataFrame to easily look up metadata (site ID, name, shortname) for each site.\n",
    "\n",
    "_This would need to be expanded and customized for each data source as schools were added_"
   ]
  },
  {
   "cell_type": "code",
   "execution_count": 4,
   "metadata": {},
   "outputs": [],
   "source": [
    "\n",
    "# AL: is the data in the CSV guaranteeded to be in the same order of the short name array you made here? The instructions say \"SiteShortName is matched based on\" -- are they hinting at simple search here?\n",
    "\n",
    "site_metadata = pd.DataFrame(list(zip(ela_statuses_data.SITE_ID.unique(),\n",
    "                      ela_statuses_data.SITE_NAME.unique(),\n",
    "                      ['Tahoma','Prep','Everest','Denali','Shasta','K2','Tamalpais']\n",
    "                     )),\n",
    "            columns = ['site_id','site_name', 'site_shortname']\n",
    "            )"
   ]
  },
  {
   "cell_type": "markdown",
   "metadata": {},
   "source": [
    "### These are the data specified to be contained within the enrollment files"
   ]
  },
  {
   "cell_type": "code",
   "execution_count": 5,
   "metadata": {},
   "outputs": [],
   "source": [
    "# AL: i'd make this a constant\n",
    "roster_data_columns = ['LOCAL_STUDENT_ID',\n",
    "                'STATE_STUDENT_ID',\n",
    "                'SITE_ID',\n",
    "                'SITE_NAME',\n",
    "                'FIRST_NAME',\n",
    "                'LAST_NAME',\n",
    "                'GRADE_LEVEL',\n",
    "                'CURRENT_SCHOOL_ENROLLMENT_START_DATE',\n",
    "                'CURRENT_SCHOOL_ENROLLMENT_END_DATE'\n",
    "               ]"
   ]
  },
  {
   "cell_type": "code",
   "execution_count": 6,
   "metadata": {},
   "outputs": [
    {
     "name": "stdout",
     "output_type": "stream",
     "text": [
      "Roster for Site 2 (Tahoma) Output to Tahoma_2_Roster_10-16-2020.csv\n",
      "Roster for Site 3 (Prep) Output to Prep_3_Roster_10-16-2020.csv\n",
      "Roster for Site 4 (Everest) Output to Everest_4_Roster_10-16-2020.csv\n",
      "Roster for Site 5 (Denali) Output to Denali_5_Roster_10-16-2020.csv\n",
      "Roster for Site 6 (Shasta) Output to Shasta_6_Roster_10-16-2020.csv\n",
      "Roster for Site 7 (K2) Output to K2_7_Roster_10-16-2020.csv\n",
      "Roster for Site 8 (Tamalpais) Output to Tamalpais_8_Roster_10-16-2020.csv\n"
     ]
    }
   ],
   "source": [
    "for site_id in site_metadata['site_id']:\n",
    "    #lookup site_shortname from the metadata table\n",
    "    site_shortname = site_metadata.loc[site_metadata['site_id'] == site_id,'site_shortname'].values[0]\n",
    "\n",
    "    \n",
    "    #filename as specified\n",
    "    filename = f'{site_shortname}_{site_id}_Roster_{today}.csv'\n",
    "    \n",
    "    #output files\n",
    "    ela_statuses_data.loc[ela_statuses_data['SITE_ID'] == site_id,roster_data_columns].to_csv(filename)\n",
    "    print(f'Roster for Site {site_id} ({site_shortname}) Output to {filename}')"
   ]
  },
  {
   "cell_type": "markdown",
   "metadata": {},
   "source": [
    "## Part 2: English Proficiency Testing Lists"
   ]
  },
  {
   "cell_type": "code",
   "execution_count": 7,
   "metadata": {},
   "outputs": [],
   "source": [
    "# AL: same comment as above wrt constants\n",
    "\n",
    "mentor_data_url = 'https://drive.google.com/uc?export=download&id=1wpKxw2rWB1a7jQBDunay0JfSO6lUiJ67'\n",
    "\n",
    "#Pull in and merge both sheets from the remote Excel document\n",
    "mentor_data = pd.merge(pd.read_excel(mentor_data_url, sheet_name = 0),pd.read_excel(mentor_data_url,\n",
    "                           sheet_name = 1))\n",
    "\n",
    "##Correct column names to save time later on a subsequent merge\n",
    "mentor_data.columns = ['LOCAL_STUDENT_ID', 'MENTOR_GROUP_ID', 'MENTOR_ID', 'MENTOR_FIRST_NAME',\n",
    "       'MENTOR_LAST_NAME', 'MENTOR_FULL_NAME']"
   ]
  },
  {
   "cell_type": "markdown",
   "metadata": {},
   "source": [
    "### Define ELA Statuses of Interest"
   ]
  },
  {
   "cell_type": "code",
   "execution_count": 8,
   "metadata": {},
   "outputs": [],
   "source": [
    "# AL: yeah, i'm _constant_ly nagging ;)\n",
    "ela_statuses = ['EL','TBD']"
   ]
  },
  {
   "cell_type": "markdown",
   "metadata": {},
   "source": [
    "### Define columns for final output\n",
    "_Case and Spacing will be corrected before output_"
   ]
  },
  {
   "cell_type": "code",
   "execution_count": 9,
   "metadata": {},
   "outputs": [],
   "source": [
    "ela_prof_data_columns = ['LOCAL_STUDENT_ID',\n",
    "                'STATE_STUDENT_ID',\n",
    "                'SITE_NAME',\n",
    "                'FIRST_NAME',\n",
    "                'LAST_NAME',\n",
    "                'GRADE_LEVEL',\n",
    "                'MENTOR_FIRST_NAME',\n",
    "                'MENTOR_LAST_NAME',\n",
    "                'CURRENT_ELA_STATUS',\n",
    "                'ELA_PRIMARY_LANGUAGE'\n",
    "               ]\n",
    "\n",
    "roster_blank_columns = ['Notification Letter Sent Home',\n",
    "                 'Date Notification Letter Sent Home',\n",
    "                 'Date Listening Completed',\n",
    "                 'Date Reading Completed',\n",
    "                 'Date Writing Completed',\n",
    "                 'Date Speaking Completed',\n",
    "                 'Date Assessment Completed',\n",
    "                 'Assessment Deadline',\n",
    "                 'Notes'\n",
    "                ]"
   ]
  },
  {
   "cell_type": "markdown",
   "metadata": {},
   "source": [
    "### Merge and Filter data"
   ]
  },
  {
   "cell_type": "code",
   "execution_count": 10,
   "metadata": {},
   "outputs": [],
   "source": [
    "roster_data = pd.merge(ela_statuses_data,\n",
    "                       mentor_data,\n",
    "                       on = 'LOCAL_STUDENT_ID'\n",
    "                      )\n",
    "roster_data = roster_data.loc[roster_data['CURRENT_ELA_STATUS'].isin(ela_statuses),\n",
    "                              ela_prof_data_columns]"
   ]
  },
  {
   "cell_type": "code",
   "execution_count": 11,
   "metadata": {},
   "outputs": [],
   "source": [
    "# AL: you know more about Pandas than me, but can you use a map method instead of an intermediary array here?\n",
    "\n",
    "#Fix columns case from import to match requirements\n",
    "columns_case_fixed = []\n",
    "for column in roster_data.columns:\n",
    "    columns_case_fixed.append(column.title().replace(\"_\",\" \").replace(\" Id\",\" ID\").replace('Ela ','ELA '))\n",
    "roster_data.columns = columns_case_fixed"
   ]
  },
  {
   "cell_type": "code",
   "execution_count": 12,
   "metadata": {},
   "outputs": [],
   "source": [
    "#Append empty columns\n",
    "roster_data[roster_blank_columns] = ''"
   ]
  },
  {
   "cell_type": "markdown",
   "metadata": {},
   "source": [
    "### Output Data"
   ]
  },
  {
   "cell_type": "code",
   "execution_count": 13,
   "metadata": {},
   "outputs": [],
   "source": [
    "roster_filename = f'SPS_English_Proficiency_Testing_Lists_All_Schools_{today}.xlsx'"
   ]
  },
  {
   "cell_type": "code",
   "execution_count": 14,
   "metadata": {},
   "outputs": [
    {
     "name": "stdout",
     "output_type": "stream",
     "text": [
      "Outputing to SPS_English_Proficiency_Testing_Lists_All_Schools_10-16-2020.xlsx\n",
      "Output data for Summit Public School: Tahoma to file.\n",
      "Output data for Summit Preparatory Charter High School to file.\n",
      "Output data for Everest Public High School to file.\n",
      "Output data for Summit Public School: Denali to file.\n",
      "Output data for Summit Public School: Shasta to file.\n",
      "Output data for Summit Public School: K2 to file.\n",
      "Output data for Summit Public School: Tamalpais to file.\n"
     ]
    }
   ],
   "source": [
    "with pd.ExcelWriter(path = roster_filename, mode='w', engine = 'openpyxl') as writer:\n",
    "    \n",
    "    print(f'Outputing to {roster_filename}')\n",
    "    \n",
    "    for site_name in site_metadata['site_name']:\n",
    "        #lookup site_shortname from the metadata table\n",
    "        site_shortname = site_metadata.loc[site_metadata['site_name'] == site_name,'site_shortname'].values[0]\n",
    "\n",
    "        # AL: nit - \"write data to file\"?\n",
    "        #output files\n",
    "        roster_data.loc[roster_data['Site Name'] == site_name].to_excel(writer,\n",
    "                                                                        sheet_name = site_shortname)\n",
    "        print(f'Output data for {site_name} to file.')"
   ]
  }
 ],
 "metadata": {
  "kernelspec": {
   "display_name": "Python [conda env:root] *",
   "language": "python",
   "name": "conda-root-py"
  },
  "language_info": {
   "codemirror_mode": {
    "name": "ipython",
    "version": 3
   },
   "file_extension": ".py",
   "mimetype": "text/x-python",
   "name": "python",
   "nbconvert_exporter": "python",
   "pygments_lexer": "ipython3",
   "version": "3.7.3"
  }
 },
 "nbformat": 4,
 "nbformat_minor": 2
}